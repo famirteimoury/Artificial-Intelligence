{
  "nbformat": 4,
  "nbformat_minor": 0,
  "metadata": {
    "colab": {
      "name": "PSO",
      "provenance": [],
      "collapsed_sections": [],
      "authorship_tag": "ABX9TyMnhwbpdR1pBjpkBAs1zNaP",
      "include_colab_link": true
    },
    "kernelspec": {
      "name": "python3",
      "display_name": "Python 3"
    },
    "language_info": {
      "name": "python"
    }
  },
  "cells": [
    {
      "cell_type": "markdown",
      "metadata": {
        "id": "view-in-github",
        "colab_type": "text"
      },
      "source": [
        "<a href=\"https://colab.research.google.com/github/famirteimoury/Artificial-Intelligence/blob/main/PSO.ipynb\" target=\"_parent\"><img src=\"https://colab.research.google.com/assets/colab-badge.svg\" alt=\"Open In Colab\"/></a>"
      ]
    },
    {
      "cell_type": "code",
      "execution_count": 35,
      "metadata": {
        "id": "hNh1A8_5fuGo"
      },
      "outputs": [],
      "source": [
        "import numpy as np\n",
        "import math \n",
        "import matplotlib.pyplot as plt"
      ]
    },
    {
      "cell_type": "code",
      "source": [
        "class particle:\n",
        "\n",
        "  \n",
        "  def __init__(self, nVar):\n",
        "    self. position = np.zeros((1, nVar))\n",
        "    self.cost = np.array ([[math.inf]])\n",
        "    self.velocity = np.zeros((1, nVar))\n",
        "    self. best_position = np.zeros((1, nVar))\n",
        "    self.best_cost = np.array ([[math.inf]])\n",
        "  \n",
        "  def Update_position (self):\n",
        "\n",
        "    return self.position + self.velocity\n",
        "\n",
        "  def Update_velocity (self,w, c1, c2 ,nVar, globalbst):\n",
        "\n",
        "    temp1 = c1 * np.random.uniform (low = 0, high = 1, size = nVar)\n",
        "    temp1 = np.reshape (temp1, (1, temp1.shape[0]))\n",
        "    temp2 = c2 * np.random.uniform (low = 0, high = 1, size = nVar)\n",
        "    temp2 = np.reshape (temp2, (1, temp2.shape[0]))\n",
        "\n",
        "    subtracted1 = np.subtract(self.best_position, self.position)\n",
        "    subtracted2 = np.subtract(globalbst.position, self.position)\n",
        "    inertia_velocity = w * self.velocity\n",
        "    cognative_velocity = temp1 * subtracted1\n",
        "    social_velocity = temp2 *subtracted2\n",
        "    updated_velocity = inertia_velocity + cognative_velocity + social_velocity \n",
        "    return updated_velocity\n",
        "    \n",
        "  def __repr__(self):\n",
        "    return f\"particle('{self. position}', '{self.cost}', '{self.velocity}', '{self.best_position}', '{self.best_cost}')\"\n"
      ],
      "metadata": {
        "id": "JQvvEScPfzDw"
      },
      "execution_count": 36,
      "outputs": []
    },
    {
      "cell_type": "code",
      "source": [
        "def CostFunction (x):\n",
        "  return np.sum (np.power(x, 2)) "
      ],
      "metadata": {
        "id": "UlF093gFvbhn"
      },
      "execution_count": 37,
      "outputs": []
    },
    {
      "cell_type": "code",
      "source": [
        "nVar = 10\n",
        "VarSize = np. zeros ((1, nVar), dtype = int)\n",
        "VarMin = -10\n",
        "VarMax = 10\n",
        "MaxIt = 1000\n",
        "nPop = 5\n",
        "# PSO Parameters\n",
        "w = 1\n",
        "wdamp = 0.99\n",
        "c1 = 1.5\n",
        "c2 = 2.1\n",
        "VelMax = 0.2 * (VarMax - VarMin)\n",
        "VelMin = -VelMax\n",
        "\n",
        "# initialization \n",
        "GlobalBest = particle (nVar)\n",
        "particles  = [] \n",
        "for i in range (nPop):\n",
        "  prtlc = particle (nVar)\n",
        "  particles.append (prtlc)\n",
        "for i in range (nPop):\n",
        "  particles [i].position = np.random.uniform (low = VarMin, high = VarMax, size = VarSize.shape)\n",
        "  particles [i].velocity = np.zeros (VarSize.shape, dtype = float)\n",
        "  particles [i].cost = CostFunction (particles[i].position)\n",
        "  particles [i].best_position = particles [i].position\n",
        "  particles [i].best_cost = particles [i].cost\n",
        "  if particles [i].best_cost < GlobalBest.cost:\n",
        "     GlobalBest = particles [i]\n",
        "BestCost = np.zeros ((MaxIt, 1))\n",
        "\n",
        "# PSO Main Loop\n",
        "for it in range (MaxIt):\n",
        "  for i in range (nPop):\n",
        "    #Update velocity\n",
        "    \n",
        "    particles [i].velocity = particles[i].Update_velocity (w, c1, c2 ,nVar, GlobalBest)\n",
        "\n",
        "    #Apply velocity limit\n",
        "\n",
        "    for k in range (nVar):\n",
        "      particles[i].velocity[0, k] = max (particles[i].velocity[0, k],VelMin)\n",
        "      particles [i].velocity[0, k] = min (particles[i].velocity[0, k],VelMax)\n",
        "    \n",
        "    #Update position \n",
        "    particles[i].position = particles[i].Update_position ()\n",
        "    # Apply Position Limits\n",
        "    for k in range (nVar):\n",
        "      particles[i].position[0, k] = max (particles[i].position[0, k],VarMin)\n",
        "      particles[i].position[0, k] = min (particles[i].position[0, k],VarMax)\n",
        "    #Evaluation \n",
        "    particles[i].cost = CostFunction(particles[i].position)\n",
        "    # Update Personal Best\n",
        "    if particles[i].cost < particles[i].best_cost :\n",
        "      particles[i].best_position = particles[i].position\n",
        "      particles[i].best_cost = particles[i].cost\n",
        "      # Update Global Best\n",
        "    if particles[i].best_cost < GlobalBest.best_cost:\n",
        "       GlobalBest = particles[i]\n",
        "  BestCost[it, 0] = GlobalBest.best_cost\n",
        "  if it % 1 == 0:\n",
        "    print ('the best cost in the iteration', it,'is ', BestCost[it, 0]) \n",
        "  w = w * wdamp\n",
        "bestsol = GlobalBest\n",
        "print (\"best cost function is \", GlobalBest.best_cost)\n",
        "plt.plot (list(range(BestCost.shape [0])), np.reshape(BestCost,-1), label = \"error\", color = 'red')\n",
        "plt.show()\n"
      ],
      "metadata": {
        "colab": {
          "base_uri": "https://localhost:8080/",
          "height": 1000
        },
        "id": "WVewD219hXuH",
        "outputId": "a9216cae-bad3-4479-f5e0-ed84d9d41187"
      },
      "execution_count": 38,
      "outputs": [
        {
          "output_type": "stream",
          "name": "stdout",
          "text": [
            
            "best cost function is  0.030210477032527928\n"
          ]
        },
        {
          "output_type": "display_data",
          "data": {
            "text/plain": [
              "<Figure size 432x288 with 1 Axes>"
            ],
            "image/png": "[encoded data removed]"
          },
          "metadata": {
            "needs_background": "light"
          }
        }
      ]
    }
  ]
}
