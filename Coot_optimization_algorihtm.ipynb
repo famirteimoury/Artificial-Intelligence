{
  "cells": [
    {
      "cell_type": "markdown",
      "metadata": {
        "id": "view-in-github",
        "colab_type": "text"
      },
      "source": [
        "<a href=\"https://colab.research.google.com/github/famirteimoury/Artificial-Intelligence/blob/main/Coot_optimization_algorihtm.ipynb\" target=\"_parent\"><img src=\"https://colab.research.google.com/assets/colab-badge.svg\" alt=\"Open In Colab\"/></a>"
      ]
    },
    {
      "cell_type": "code",
      "execution_count": 5,
      "id": "12e4f764",
      "metadata": {
        "id": "12e4f764"
      },
      "outputs": [],
      "source": [
        "import numpy as np\n",
        "import matplotlib.pyplot as plt\n",
        "import math "
      ]
    },
    {
      "cell_type": "code",
      "execution_count": 6,
      "id": "79d4b753",
      "metadata": {
        "id": "79d4b753"
      },
      "outputs": [],
      "source": [
        "class coot:\n",
        "    def __init__(self, nvar, ub, lb):\n",
        "        self.position = np.random.uniform (low = lb, high = ub, size = (1, nvar)) \n",
        "        self.cost = math.inf\n",
        "    \n",
        "    def check_boundaries (self):\n",
        "      temp = np.array (self.position)\n",
        "      for j in range (temp.shape [1]):\n",
        "        temp [0, j] = max (temp [0, j], lb)\n",
        "        temp [0, j] = min (temp [0, j], ub)\n",
        "      self.position = temp\n",
        "\n",
        "\n",
        "        "
      ]
    },
    {
      "cell_type": "code",
      "execution_count": 7,
      "id": "ac2dd8b7",
      "metadata": {
        "id": "ac2dd8b7"
      },
      "outputs": [],
      "source": [
        "def cost_function (x):\n",
        "    result = np.sum (np.power (x, 2))\n",
        "    return result\n"
      ]
    },
    {
      "cell_type": "code",
      "execution_count": 8,
      "id": "9b71d86c",
      "metadata": {
        "colab": {
          "base_uri": "https://localhost:8080/",
          "height": 265
        },
        "id": "9b71d86c",
        "outputId": "3b0003a9-f0eb-46c7-fe9a-d55716bc2582"
      },
      "outputs": [
        {
          "output_type": "display_data",
          "data": {
            "text/plain": [
              "<Figure size 432x288 with 1 Axes>"
            ],
            "image/png": "[encoded data removed]"
          },
          "metadata": {
            "needs_background": "light"
          }
        }
      ],
      "source": [
        "if __name__ == \"__main__\":\n",
        "    \n",
        "    #initialization of parameters\n",
        "    \n",
        "    num_var = 2\n",
        "    num_pop = 20\n",
        "    num_leader = math.ceil (0.1 * num_pop)\n",
        "    num_coot = num_pop - num_leader\n",
        "    ub = 10\n",
        "    lb = -10\n",
        "    max_iter = 15\n",
        "    it = 0\n",
        "    coots = []\n",
        "    leaders = []\n",
        "    gbest = coot (num_var, ub, lb)\n",
        "    BestCost = np.zeros ((max_iter, 1))\n",
        "    for i in range (num_coot):\n",
        "        coots.append (coot(num_var, ub, lb))\n",
        "    for i in range (num_leader):\n",
        "        leaders.append (coot(num_var, ub, lb))\n",
        "    \n",
        "    \n",
        "    for i in range (num_coot):\n",
        "        coots [i].cost = cost_function (coots [i].position)\n",
        "        if coots [i].cost < gbest.cost:\n",
        "            gbest = coots [i]\n",
        "    for i in range (num_leader):\n",
        "        leaders [i].cost = cost_function (leaders [i].position)\n",
        "        if leaders [i].cost < gbest.cost:\n",
        "            gbest = leaders [i]\n",
        "    \n",
        "    # main loop\n",
        "    \n",
        "    while it < max_iter:\n",
        "        \n",
        "        B = 2 - it * (1 / max_iter)\n",
        "        A = 1 - it * ( 1 / max_iter)\n",
        "        for i in range (num_coot):\n",
        "            rand_num = np.random.uniform (low = 0, high = 1) \n",
        "            if rand_num < 0.5:\n",
        "                R = np.random.uniform (low = -1, high = 1) \n",
        "                R1 = np.random.uniform (low = 0, high = 1) \n",
        "            else:\n",
        "                R = np.random.uniform (low = -1, high = 1, size = (1, num_var)) \n",
        "                R1 = np.random.uniform (low = 0, high = 1, size = (1, num_var)) \n",
        "            k =  (i % num_leader)\n",
        "            rand_num = np.random.uniform (low = 0, high = 1) \n",
        "            if rand_num < 0.5:\n",
        "                \n",
        "                coots [i].position = leaders [k].position + 2 * R1 * (np.cos (2 * np.pi * R)) * (leaders [k].position - coots [i].position)\n",
        "                coots [i].check_boundaries ()\n",
        "               \n",
        "            else:\n",
        "                \n",
        "                rand_num = np.random.uniform (low = 0, high = 1) \n",
        "                if rand_num < 0.5 and i != 1:\n",
        "                    coots [i].position = (coots [i].position + coots [i - 1].position) * 0.5\n",
        "                else:\n",
        "                    Q = np.random.uniform (low = lb, high = ub, size = (1, num_var)) \n",
        "                    coots [i].position = coots [i].position + A * R1 * (Q - coots [i].position)\n",
        "                coots [i].check_boundaries ()\n",
        "               \n",
        "        #     % fitness of location of Coots\n",
        "        for i in range (num_coot):\n",
        "            coots [i].cost = cost_function (coots [i].position)\n",
        "            k = (i % num_leader)\n",
        "            # Update the location of coot\n",
        "            if coots [i].cost < leaders [k].cost:\n",
        "                temp = coots [i]\n",
        "                coots [i] = leaders [k]\n",
        "                leaders [k] = temp\n",
        "        #    % fitness of location of Leaders\n",
        "        for i in range (num_leader):\n",
        "            rand_num = np.random.uniform (low = 0, high = 1) \n",
        "            if rand_num < 0.5:\n",
        "                R = np.random.uniform (low = -1, high = 1) \n",
        "                R3 = np.random.uniform (low = 0, high = 1)  \n",
        "            else:\n",
        "                R = np.random.uniform (low = -1, high = 1, size = (1, num_var)) \n",
        "                R3 = np.random.uniform (low = 0, high = 1, size = (1, num_var)) \n",
        "           \n",
        "            rand_num = np.random.uniform (low = 0, high = 1) \n",
        "            temp = coot (num_var, ub, lb)\n",
        "            if rand_num < 0.5:\n",
        "                temp.position = B * R3 * np.cos (2 * np.pi * R) * (gbest.position - leaders [i].position) + gbest.position \n",
        "            else:\n",
        "                temp.position = B * R3 * np.cos (2 * np.pi * R) * (gbest.position - leaders [i].position) - gbest.position \n",
        "            \n",
        "            temp.check_boundaries ()\n",
        "            temp.cost = cost_function (temp.position)\n",
        "            # update the location of the leaders\n",
        "            if temp.cost < gbest.cost:\n",
        "                gbest = temp\n",
        "        \n",
        "        BestCost[it, 0] = gbest.cost\n",
        "        it = it +1\n",
        "    plt.plot (list(range(BestCost.shape [0])), np.reshape(BestCost,-1), label = \"error\", color = 'red')\n",
        "    plt.show()\n",
        "\n",
        "                \n",
        "        \n",
        "\n",
        "\n",
        "       "
      ]
    }
  ],
  "metadata": {
    "kernelspec": {
      "display_name": "Python 3 (ipykernel)",
      "language": "python",
      "name": "python3"
    },
    "language_info": {
      "codemirror_mode": {
        "name": "ipython",
        "version": 3
      },
      "file_extension": ".py",
      "mimetype": "text/x-python",
      "name": "python",
      "nbconvert_exporter": "python",
      "pygments_lexer": "ipython3",
      "version": "3.10.2"
    },
    "colab": {
      "name": "Coot_optimization_algorihtm.ipynb",
      "provenance": [],
      "collapsed_sections": [],
      "include_colab_link": true
    },
    "gpuClass": "standard"
  },
  "nbformat": 4,
  "nbformat_minor": 5
}